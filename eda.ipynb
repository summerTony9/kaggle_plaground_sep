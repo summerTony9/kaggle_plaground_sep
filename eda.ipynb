{
 "cells": [
  {
   "cell_type": "code",
   "execution_count": 142,
   "metadata": {},
   "outputs": [],
   "source": [
    "import pandas as pd\n",
    "full_df = pd.read_csv(\"tabular-playground-series-sep-2022/train.csv\", parse_dates=['date'])\n",
    "full_df.head()\n",
    "test_df = pd.read_csv(\"tabular-playground-series-sep-2022/test.csv\", parse_dates=['date'])"
   ]
  },
  {
   "cell_type": "code",
   "execution_count": 143,
   "metadata": {},
   "outputs": [],
   "source": [
    "full_df = full_df.assign(\n",
    "    year = lambda df: df.date.map(lambda x: x.year),\n",
    "    # month = lambda df: df.date.map(lambda x: x.month),\n",
    "    season = lambda df: df.date.map(lambda x: x.quarter),\n",
    ")\n",
    "\n",
    "test_df = test_df.assign(\n",
    "    year = lambda df: df.date.map(lambda x: x.year),\n",
    "    # month = lambda df: df.date.map(lambda x: x.month),\n",
    "    season = lambda df: df.date.map(lambda x: x.quarter),\n",
    ")\n",
    "full_df = pd.get_dummies(full_df)\n",
    "test_df = pd.get_dummies(test_df)"
   ]
  },
  {
   "cell_type": "code",
   "execution_count": 144,
   "metadata": {},
   "outputs": [],
   "source": [
    "from cgi import test\n",
    "from sklearn.model_selection import train_test_split\n",
    "\n",
    "# train_df, test_df = train_test_split(full_df, train_size=0.7, shuffle=False, random_state=42)\n",
    "train_df = full_df\n",
    "test_df = test_df\n",
    "X = train_df.loc[:, \"year\":]\n",
    "y = train_df[\"num_sold\"]\n",
    "X_test = test_df.loc[:, \"year\":]\n",
    "# y_test = test_df[\"num_sold\"]"
   ]
  },
  {
   "cell_type": "code",
   "execution_count": 145,
   "metadata": {},
   "outputs": [],
   "source": [
    "from sklearn.pipeline import make_pipeline\n",
    "from sklearn.preprocessing import StandardScaler\n",
    "from sklearn.svm import SVR\n",
    "\n",
    "svm_model = make_pipeline(StandardScaler(), SVR(gamma='auto'))"
   ]
  },
  {
   "cell_type": "markdown",
   "metadata": {},
   "source": []
  },
  {
   "cell_type": "code",
   "execution_count": 146,
   "metadata": {},
   "outputs": [],
   "source": [
    "from cgi import test\n",
    "import numpy as np\n",
    "from sklearn.model_selection import KFold\n",
    "\n",
    "kf = KFold(5)\n",
    "def get_oof(pipe, X_train, y_train, X_test):\n",
    "    X_train = X_train.to_numpy()\n",
    "    y_train = y_train.to_numpy()\n",
    "    X_test = X_test.to_numpy()\n",
    "    oof_train = np.zeros((train_df.shape[0], ))\n",
    "    oof_test = np.zeros((test_df.shape[0], ))\n",
    "    oof_test_skf = np.empty((5, test_df.shape[0]))\n",
    "\n",
    "    for i, (train_index, test_index) in enumerate(kf.split(X_train)):\n",
    "        kf_X_trian = X_train[train_index]\n",
    "        kf_y_train = y_train[train_index]\n",
    "        kf_X_test = X_train[test_index]\n",
    "\n",
    "        model = pipe.fit(kf_X_trian, kf_y_train)\n",
    "        oof_train[test_index] = model.predict(kf_X_test)\n",
    "        oof_test_skf[i, :] = model.predict(X_test)\n",
    "    \n",
    "    oof_test[:] = oof_test_skf.mean(axis=0)\n",
    "    return oof_train.reshape(-1, 1), oof_test.reshape(-1, 1)\n",
    "\n",
    "# get_oof(svm_model, X, y, X_test)\n"
   ]
  },
  {
   "cell_type": "code",
   "execution_count": 147,
   "metadata": {},
   "outputs": [],
   "source": [
    "from sklearn.ensemble import RandomForestRegressor\n",
    "\n",
    "rf_model = RandomForestRegressor(n_estimators=100)\n",
    "# get_oof(rf_model, X, y, X_test)"
   ]
  },
  {
   "cell_type": "code",
   "execution_count": 148,
   "metadata": {},
   "outputs": [],
   "source": [
    "from sklearn.ensemble import GradientBoostingRegressor\n",
    "gb_model = GradientBoostingRegressor(\n",
    "    n_estimators=100, learning_rate=0.1, max_depth=1, random_state=0,\n",
    "    loss='huber'\n",
    ")\n",
    "# get_oof(gb_model, X, y, X_test)"
   ]
  },
  {
   "cell_type": "code",
   "execution_count": 149,
   "metadata": {},
   "outputs": [],
   "source": [
    "from sklearn.ensemble import AdaBoostRegressor\n",
    "ab_model = AdaBoostRegressor(n_estimators=100)\n",
    "# get_oof(ab_model, X, y, X_test)"
   ]
  },
  {
   "cell_type": "code",
   "execution_count": 150,
   "metadata": {},
   "outputs": [],
   "source": [
    "from sklearn.ensemble import HistGradientBoostingRegressor\n",
    "hgb_model = HistGradientBoostingRegressor(max_iter=100)"
   ]
  },
  {
   "cell_type": "code",
   "execution_count": 151,
   "metadata": {},
   "outputs": [],
   "source": [
    "from sklearn.linear_model import Lasso\n",
    "ls_model = Lasso(alpha=0.1)"
   ]
  },
  {
   "cell_type": "code",
   "execution_count": 152,
   "metadata": {},
   "outputs": [],
   "source": [
    "models = {\n",
    "    # \"rf\":rf_model, \n",
    "    \"gb\":gb_model, \n",
    "    \"ab\":ab_model, \n",
    "    \"hgb\":hgb_model,\n",
    "    \"ls\": ls_model\n",
    "}\n",
    "train_ans = np.zeros((X.shape[0], len(models)))\n",
    "test_ans = np.zeros((X_test.shape[0], len(models)))\n",
    "for index, (model_name, model) in enumerate(models.items()):\n",
    "    train_oof, test_oof = get_oof(model, X, y, X_test)\n",
    "    train_ans[:,index] = train_oof[:,0]\n",
    "    test_ans[:,index] = test_oof[:,0]"
   ]
  },
  {
   "cell_type": "code",
   "execution_count": 153,
   "metadata": {},
   "outputs": [],
   "source": [
    "from sklearn.metrics import mean_squared_error\n",
    "from sklearn.linear_model import LinearRegression\n",
    "\n",
    "lm_model = LinearRegression()\n",
    "lm_model.fit(train_ans, y)\n",
    "lm_ans = lm_model.predict(test_ans)\n",
    "pd.DataFrame(\n",
    "    {\n",
    "        \"row_id\": range(70128, 70128+len(lm_ans)),\n",
    "        \"num_sold\": lm_ans\n",
    "    }\n",
    ").to_csv(\"submit.csv\", index=False)"
   ]
  }
 ],
 "metadata": {
  "kernelspec": {
   "display_name": "Python 3.8.10 64-bit",
   "language": "python",
   "name": "python3"
  },
  "language_info": {
   "codemirror_mode": {
    "name": "ipython",
    "version": 3
   },
   "file_extension": ".py",
   "mimetype": "text/x-python",
   "name": "python",
   "nbconvert_exporter": "python",
   "pygments_lexer": "ipython3",
   "version": "3.8.10"
  },
  "orig_nbformat": 4,
  "vscode": {
   "interpreter": {
    "hash": "0adcc2737ebf6a4a119f135174df96668767fca1ef1112612db5ecadf2b6d608"
   }
  }
 },
 "nbformat": 4,
 "nbformat_minor": 2
}
